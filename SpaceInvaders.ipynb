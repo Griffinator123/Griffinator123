{
  "nbformat": 4,
  "nbformat_minor": 0,
  "metadata": {
    "colab": {
      "provenance": [],
      "include_colab_link": true
    },
    "kernelspec": {
      "name": "python3",
      "display_name": "Python 3"
    }
  },
  "cells": [
    {
      "cell_type": "markdown",
      "metadata": {
        "id": "view-in-github",
        "colab_type": "text"
      },
      "source": [
        "<a href=\"https://colab.research.google.com/github/Griffinator123/Griffinator123/blob/main/SpaceInvaders.ipynb\" target=\"_parent\"><img src=\"https://colab.research.google.com/assets/colab-badge.svg\" alt=\"Open In Colab\"/></a>"
      ]
    },
    {
      "cell_type": "markdown",
      "metadata": {
        "id": "AnGBeClRwgRu"
      },
      "source": [
        "# Mount Google Drive"
      ]
    },
    {
      "cell_type": "code",
      "metadata": {
        "id": "CsTqK518aSF1",
        "colab": {
          "base_uri": "https://localhost:8080/"
        },
        "outputId": "81d03503-97a4-4030-b79d-25dce0af8213"
      },
      "source": [
        "from google.colab import drive\n",
        "drive.mount('/content/drive')"
      ],
      "execution_count": 18,
      "outputs": [
        {
          "output_type": "stream",
          "name": "stdout",
          "text": [
            "Drive already mounted at /content/drive; to attempt to forcibly remount, call drive.mount(\"/content/drive\", force_remount=True).\n"
          ]
        }
      ]
    },
    {
      "cell_type": "markdown",
      "metadata": {
        "id": "fFJ-Yoo-wkMB"
      },
      "source": [
        "# Change directory to folder with picture\n",
        "1. Use the ls command to see what files are present.\n",
        "2. Use the cd command to change directories."
      ]
    },
    {
      "cell_type": "code",
      "metadata": {
        "id": "7sNh_PMmbKt4",
        "colab": {
          "base_uri": "https://localhost:8080/"
        },
        "outputId": "ed1fb237-f6c7-4d48-cbd8-79a03b288d63"
      },
      "source": [
        "ls"
      ],
      "execution_count": 41,
      "outputs": [
        {
          "output_type": "stream",
          "name": "stdout",
          "text": [
            "SpaceInvader.jpg\n"
          ]
        }
      ]
    },
    {
      "cell_type": "markdown",
      "metadata": {
        "id": "z_wZUaTtvpx0"
      },
      "source": [
        "1. First run the cell below and acquaint yourself with Bob the friendly space invader.\n",
        "\n",
        "2. In the 3rd code chunk down in the cell below there is a comment that says 'Insert red, green, and blue channel values to turn background pink below'... do that\n",
        "3. In the cell below that change the black in the image to green and the background to black. Comment your code.\n",
        "4. In the cell below hack it. Do something creative with the code (Suggestions - Turn the top half of the white to one color and the bottom half to another color. Digitally edit another image a similar way. What ever you do comment your code with a Markdown Cell before the code."
      ]
    },
    {
      "cell_type": "code",
      "metadata": {
        "id": "uxkfSeESdXZG",
        "colab": {
          "base_uri": "https://localhost:8080/",
          "height": 435
        },
        "outputId": "3c904828-51f3-4acf-a3d6-e7ea916283d1"
      },
      "source": [
        "%matplotlib inline\n",
        "import matplotlib.pyplot as plt\n",
        "from PIL import Image\n",
        "import os.path\n",
        "import numpy as np\n",
        "import math\n",
        "\n",
        "\n",
        "'''Read the image data'''\n",
        "# Get the directory of this python script\n",
        "directory = os.getcwd()\n",
        "filename = os.path.join(directory, 'SpaceInvader.jpg')\n",
        "#open up the image\n",
        "img = np.array(Image.open(filename))\n",
        "#get image height and width\n",
        "height = len(img)\n",
        "width = len(img[0])\n",
        "\n",
        "#go through every pixel in the image\n",
        "for r in range(height):\n",
        "    for c in range(width):\n",
        "        #Looks for pixels that are white (red green and blue channels are all above 200)\n",
        "        if img[r][c][0] >200 and img[r][c][1]>200 and img[r][c][2]>200:\n",
        "            #Insert red, green, and blue channel values to turn background pink below\n",
        "            img[r][c]=( 0, 255 , 0  )\n",
        "if img[r][c][0]>0and img[r][c][0]>0 and img [r][c][0]>0:\n",
        "    img[r][c]=(100,100,100)\n",
        "\n",
        "# Create figure with 1 subplot\n",
        "fig, ax = plt.subplots(1, 1)\n",
        "# Show the image data in a subplot\n",
        "ax.imshow(img, interpolation='none')\n",
        "# Show the figure on the screen\n",
        "fig.show()\n"
      ],
      "execution_count": 54,
      "outputs": [
        {
          "output_type": "display_data",
          "data": {
            "text/plain": [
              "<Figure size 640x480 with 1 Axes>"
            ],
            "image/png": "[encoded data removed]"
          },
          "metadata": {}
        }
      ]
    },
    {
      "cell_type": "code",
      "metadata": {
        "id": "KkiGRrOWwEOI"
      },
      "source": [
        "#Insert code that turns that space-invader to green and the background to black."
      ],
      "execution_count": null,
      "outputs": []
    },
    {
      "cell_type": "code",
      "metadata": {
        "id": "vZCMiMYtwRhf"
      },
      "source": [
        "#Insert code that does something creative and unique. Maybe apply an effect to only half of the image or 2 effects to different parts of the image..."
      ],
      "execution_count": null,
      "outputs": []
    }
  ]
}