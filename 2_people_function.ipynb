{
  "nbformat": 4,
  "nbformat_minor": 0,
  "metadata": {
    "colab": {
      "provenance": [],
      "authorship_tag": "ABX9TyOQiPAeTDYSZsQDiYBs6n75",
      "include_colab_link": true
    },
    "kernelspec": {
      "name": "python3",
      "display_name": "Python 3"
    },
    "language_info": {
      "name": "python"
    }
  },
  "cells": [
    {
      "cell_type": "markdown",
      "metadata": {
        "id": "view-in-github",
        "colab_type": "text"
      },
      "source": [
        "<a href=\"https://colab.research.google.com/github/Griffinator123/Griffinator123/blob/main/2_people_function.ipynb\" target=\"_parent\"><img src=\"https://colab.research.google.com/assets/colab-badge.svg\" alt=\"Open In Colab\"/></a>"
      ]
    },
    {
      "cell_type": "code",
      "execution_count": 20,
      "metadata": {
        "id": "ag5f1gxz0gdn"
      },
      "outputs": [],
      "source": [
        "#working toghter apraty person 2\n",
        "def tax_calc(cost,tax):\n",
        "  tax_amount = cost * tax\n",
        "  total = tax_amount + cost\n",
        "  return(total, tax_amount)\n"
      ]
    },
    {
      "cell_type": "code",
      "source": [
        "total, tax_amount = tax_calc(60,.06)\n",
        "\n",
        "print(\"total is: \", total)\n",
        "print(\"tax amount is: \", tax_amount)\n",
        "\n"
      ],
      "metadata": {
        "colab": {
          "base_uri": "https://localhost:8080/"
        },
        "id": "Fd59IvUW4oE8",
        "outputId": "3a18b33a-9d4a-4b89-9eda-4f1f0e47f58a"
      },
      "execution_count": 22,
      "outputs": [
        {
          "output_type": "stream",
          "name": "stdout",
          "text": [
            "total is:  63.6\n",
            "tax amount is:  3.5999999999999996\n"
          ]
        }
      ]
    },
    {
      "cell_type": "code",
      "source": [
        "def sugested_tip(cost):\n",
        "  tip = cost * .15\n",
        "  return tip"
      ],
      "metadata": {
        "id": "dj-hPMwt5qBl"
      },
      "execution_count": 30,
      "outputs": []
    },
    {
      "cell_type": "code",
      "source": [
        "sugested_tip(60)"
      ],
      "metadata": {
        "colab": {
          "base_uri": "https://localhost:8080/"
        },
        "id": "RHoWxX0758bg",
        "outputId": "80f2be59-10b7-4042-9064-b03a673f2718"
      },
      "execution_count": 32,
      "outputs": [
        {
          "output_type": "execute_result",
          "data": {
            "text/plain": [
              "9.0"
            ]
          },
          "metadata": {},
          "execution_count": 32
        }
      ]
    }
  ]
}