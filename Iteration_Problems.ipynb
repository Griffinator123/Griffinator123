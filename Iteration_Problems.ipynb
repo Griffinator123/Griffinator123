{
  "nbformat": 4,
  "nbformat_minor": 0,
  "metadata": {
    "colab": {
      "provenance": [],
      "include_colab_link": true
    },
    "kernelspec": {
      "name": "python3",
      "display_name": "Python 3"
    }
  },
  "cells": [
    {
      "cell_type": "markdown",
      "metadata": {
        "id": "view-in-github",
        "colab_type": "text"
      },
      "source": [
        "<a href=\"https://colab.research.google.com/github/Griffinator123/Griffinator123/blob/main/Iteration_Problems.ipynb\" target=\"_parent\"><img src=\"https://colab.research.google.com/assets/colab-badge.svg\" alt=\"Open In Colab\"/></a>"
      ]
    },
    {
      "cell_type": "markdown",
      "metadata": {
        "id": "5hgkbdf0-pCW"
      },
      "source": [
        "#Problem 0 Rotten Milk?\n",
        "\n",
        "Create a function called MilkRotten() that takes one argument DaysOld. DaysOld is a list of different milk cartons and how old they are. Your function is to iterate through the list DaysOld and\n",
        "\n",
        "1. If the milk is less than 25 days old print \"Milk is still good\"\n",
        "2. If milk is between 25 and 55 days old print \"Milk is bad\"\n",
        "3. If the milk is older than 55 days old print \"Call the Hazmat team\""
      ]
    },
    {
      "cell_type": "code",
      "metadata": {
        "id": "sRvHCwmk-dhQ"
      },
      "source": [
        "DaysOld=[3,12,2,100,7,24,40,50,40,20,6,8]\n",
        "#Insert Is MilkRotten(\n",
        "\n",
        "\n",
        "def DaysOld(Days):\n",
        "  input = Days\n",
        "  if Days < 25:\n",
        "    print(\"milk is good\")\n",
        "  elif Days > 25 and Days < 55:\n",
        "    print(\"milk is bad\")\n",
        "  elif Days > 55:\n",
        "    print(\"call the hazmat team\")"
      ],
      "execution_count": 3,
      "outputs": []
    },
    {
      "cell_type": "code",
      "source": [
        "DaysOld(5)"
      ],
      "metadata": {
        "id": "602ALlosYu-s",
        "outputId": "97310a0a-dca8-42cc-92bb-bbbd2fb3dc31",
        "colab": {
          "base_uri": "https://localhost:8080/"
        }
      },
      "execution_count": 7,
      "outputs": [
        {
          "output_type": "stream",
          "name": "stdout",
          "text": [
            "milk is good\n"
          ]
        }
      ]
    },
    {
      "cell_type": "markdown",
      "metadata": {
        "id": "DhBbZ2V5IZwP"
      },
      "source": [
        "#Problem 1: Number Lists\n",
        "Iterate through every number in a list to separate out even and odd numbers. Identify possible outlier values as well.\n",
        "\n",
        "```python\n",
        "my_list = [1, 2, 3, 4, 5, 6, 7, 100, 110, 21, 33, 32, 2, 4]\n",
        "\n",
        "\n",
        "even = []\n",
        "not_even = []\n",
        "outlier = []\n",
        "\n",
        "\n",
        "#output\n",
        "even = [2, 4, 6, 32, 2, 4]\n",
        "not_even [1, 3, 5, 7, 21, 33]\n",
        "outliers [100, 110]\n",
        "\n",
        "```"
      ]
    },
    {
      "cell_type": "code",
      "metadata": {
        "id": "t-N9yanoIY3T"
      },
      "source": [
        "numberlist = [1,2,3,4,5,6,7,8,9,11,12,100]\n",
        "\n",
        "def numbersorter(numberlist):\n",
        " numberlist = [1,2,3,4,5,6,7,8,9,11,12,100]\n",
        " for i in numberlist:\n",
        "  if i == 0:\n",
        "    print(0)\n",
        "  elif i % 2 == 0:\n",
        "   print(\"even\") and print(i)\n",
        "  else:\n",
        "    print(\"not even\") and print(i)\n",
        " if i > 100:\n",
        "    print(\"outlirer\") and print(i)\n"
      ],
      "execution_count": 56,
      "outputs": []
    },
    {
      "cell_type": "code",
      "source": [
        "numbersorter(numberlist)"
      ],
      "metadata": {
        "id": "tnori8s6Z1YN",
        "outputId": "e34550c8-a488-4d87-a744-cf48d96b61fa",
        "colab": {
          "base_uri": "https://localhost:8080/"
        }
      },
      "execution_count": 57,
      "outputs": [
        {
          "output_type": "stream",
          "name": "stdout",
          "text": [
            "not even\n",
            "even\n",
            "not even\n",
            "even\n",
            "not even\n",
            "even\n",
            "not even\n",
            "even\n",
            "not even\n",
            "not even\n",
            "even\n",
            "even\n"
          ]
        }
      ]
    },
    {
      "cell_type": "markdown",
      "metadata": {
        "id": "YY_UROL6PrVC"
      },
      "source": [
        "#Modulo\n",
        "\n",
        "The percent symbol, %, in python is called the modulo. What the modulo does is it outputs the remainder from dividing two numbers. For instance.\n",
        "\n",
        "```python\n",
        "9 % 2\n",
        "```\n",
        "\n",
        "would output 1\n",
        "\n",
        "```python\n",
        "10 % 2\n",
        "```\n",
        "would output 0\n",
        "\n",
        "This can be a simple way to test if a number is even, n % 2 =0, or odd, n % 2 = 1.\n"
      ]
    },
    {
      "cell_type": "markdown",
      "metadata": {
        "id": "rKQMqEKmQdrH"
      },
      "source": [
        "#Problem 2: FizzBuzz\n",
        "Write a Python program which iterates the integers from 1 to 50. For multiples of three (i % 3 = 0) print \"Fizz\" instead of the number and for the multiples of five (i % 5 = 0) print \"Buzz\". For numbers which are multiples of both three and five print \"FizzBuzz\"."
      ]
    },
    {
      "cell_type": "code",
      "metadata": {
        "id": "0Vhh45kePqiK"
      },
      "source": [
        "def FizzBuzz(number):\n",
        " for i in range(number):\n",
        "    if i == 0:\n",
        "      print(i)\n",
        "    elif i % 3 == 0 and i % 5 == 0:\n",
        "      print(\"fizzbuzz\")\n",
        "    elif i % 3 == 0:\n",
        "      print(\"fizz\")\n",
        "    elif i % 5 == 0:\n",
        "      print(\"buzz\")\n",
        "\n",
        "    else:\n",
        "      print(i)\n"
      ],
      "execution_count": null,
      "outputs": []
    },
    {
      "cell_type": "markdown",
      "source": [
        "#Problem 3: Evens and a Skip\n",
        "Loop through and print out all even numbers from the numbers list in the same order they are received. Don't print any numbers that come after 237 in the sequence.\n"
      ],
      "metadata": {
        "id": "cbkcaZ9NWVQs"
      }
    },
    {
      "cell_type": "code",
      "source": [
        "numbers = [\n",
        "    951, 402, 984, 651, 360, 69, 408, 319, 601, 485, 980, 507, 725, 547, 544,\n",
        "    615, 83, 165, 141, 501, 263, 617, 865, 575, 219, 390, 984, 592, 236, 105, 942, 941,\n",
        "    386, 462, 47, 418, 907, 344, 236, 375, 823, 566, 597, 978, 328, 615, 953, 345,\n",
        "    399, 162, 758, 219, 918, 237, 412, 566, 826, 248, 866, 950, 626, 949, 687, 217,\n",
        "    815, 67, 104, 58, 512, 24, 892, 894, 767, 553, 81, 379, 843, 831, 445, 742, 717,\n",
        "    958, 609, 842, 451, 688, 753, 854, 685, 93, 857, 440, 380, 126, 721, 328, 753, 470,\n",
        "    743, 527\n",
        "]\n"
      ],
      "metadata": {
        "id": "_K3LS46HWbUH"
      },
      "execution_count": null,
      "outputs": []
    },
    {
      "cell_type": "markdown",
      "source": [
        "##Problem 4: String Splosion\n",
        "\n",
        "Given a  string like \"Code\" return a string like \"CCoCodCode\".\n",
        "\n",
        "string_splosion('Code') → 'CCoCodCode'\n",
        "string_splosion('abc') → 'aababc'\n",
        "string_splosion('ab') → 'aab'"
      ],
      "metadata": {
        "id": "j3xIpAdAWir1"
      }
    },
    {
      "cell_type": "code",
      "source": [],
      "metadata": {
        "id": "1yzV_chFZ4Kx"
      },
      "execution_count": null,
      "outputs": []
    },
    {
      "cell_type": "markdown",
      "source": [
        "##Problem 5: Seven Dwarfs?\n",
        "You are to create a function that will go through a list of potential dwarf names and welcome all of the real dwarfs and reject the false dwarf.\n",
        "\n",
        "For example\n",
        "```python\n",
        "SevenDwarf = ['happy','doc','bashful',’Sad’]\n",
        "\n",
        "#output\n",
        "\n",
        "'welcome happy!','welcome doc!','welcome bashful!', 'IMPOSTER!'\n",
        "\n",
        "'''"
      ],
      "metadata": {
        "id": "WofCiuwkZ7Xd"
      }
    },
    {
      "cell_type": "code",
      "source": [],
      "metadata": {
        "id": "6wLkaA8gaL84"
      },
      "execution_count": null,
      "outputs": []
    }
  ]
}